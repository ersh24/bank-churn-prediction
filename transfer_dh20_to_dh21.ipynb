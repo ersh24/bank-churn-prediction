{
 "cells": [
  {
   "cell_type": "code",
   "execution_count": 3,
   "metadata": {
    "collapsed": true
   },
   "outputs": [],
   "source": [
    "import vertica_python \n",
    "import datetime as dt\n",
    "#import itertools as it\n",
    "import numpy as np\n",
    "import pandas as pd\n",
    "import os"
   ]
  },
  {
   "cell_type": "markdown",
   "metadata": {},
   "source": [
    "#### Для работы с данными необходимо перелить данные на одну машину, где все будет агрегироваться"
   ]
  },
  {
   "cell_type": "code",
   "execution_count": 57,
   "metadata": {
    "collapsed": true
   },
   "outputs": [],
   "source": [
    "def create_remote_table(query, file_to_save, sep=';'):\n",
    "    remote_command = \"vsql -U dbadmin -F '{sep}' -A -o {file_name} -c '{query};'\".format(**{\n",
    "            'file_name':file_to_save, \n",
    "            'query':query,\n",
    "            'sep':sep,\n",
    "        })\n",
    "    os.system('ssh datahub \"{}\"'.format(remote_command))\n",
    "    os.system('ssh datahub \"sed -i \\'$d\\' {}\"'.format(file_name))\n",
    "    \n",
    "    return remote_command\n",
    "\n",
    "\n",
    "def load_table_from_dh20_to_dh21(path_file_src, path_file_dest, clear_source=False, drop_last_list=True, \n",
    "                                      clear_dest_source=False, fast_rsync=True):\n",
    "    if clear_dest_source:\n",
    "        os.remove(path_file_dest)\n",
    "    if fast_rsync:\n",
    "        rsync_cmd_template = 'rsync -aHAXxv --numeric-ids --delete -e \"ssh -T -c arcfour -o Compression=no -x\" datahub:{} {}'\n",
    "    else:\n",
    "        rsync_cmd_template = 'rsync -aP datahub:{} {}'\n",
    "        \n",
    "    os.system(rsync_cmd_template.format(path_file_src, path_file_dest))\n",
    "    if clear_source:\n",
    "        os.system('ssh datahub \"rm {}\"'.format(path_file_src))\n",
    "    # drop last line because vertica save total number of rows in last line\n",
    "#     os.system(\"sed -i '$d' {}\".format(path_file_dest))\n",
    "        \n",
    "def do_all_thats_stuff(query, path_file_src, path_file_dest, clear_source=False, sep=';'):\n",
    "    create_remote_table(query, path_file_src, sep=sep)\n",
    "    load_table_from_dh20_to_dh21(path_file_src, path_file_dest, clear_source)\n",
    "    \n",
    "def get_params(table_name):\n",
    "#     full_table_name = '{}.{}'.format(table_schema, table_name)\n",
    "    query_to_save = 'select * from {}'.format(table_name)\n",
    "    src_file = '/home/alfadata/data/{}.csv'.format(table_name)\n",
    "    dest_file = '/home/alfadata/data/churn/{}.csv'.format(table_name)\n",
    "    return query_to_save, src_file, dest_file"
   ]
  },
  {
   "cell_type": "code",
   "execution_count": 5,
   "metadata": {
    "collapsed": true
   },
   "outputs": [],
   "source": [
    "conn_vert = vertica_python.connect(host = host, port=5433, user=user, password=pass, database=base)\n",
    "cur_vert = conn_vert.cursor()"
   ]
  },
  {
   "cell_type": "markdown",
   "metadata": {},
   "source": [
    "### Fetch and transfer data from Vertica to datahub-21 using datahub-20"
   ]
  },
  {
   "cell_type": "code",
   "execution_count": 4,
   "metadata": {
    "collapsed": false
   },
   "outputs": [
    {
     "data": {
      "text/plain": [
       "['churn_feature_product_touch',\n",
       " 'churn_feature_money_withdraw',\n",
       " 'churn_feature_session_time1',\n",
       " 'churn_feature_cardtransaction_stran',\n",
       " 'churn_feature_num_cards',\n",
       " 'churn_feature_session_time',\n",
       " 'churn_feature_segments',\n",
       " 'churn_feature_epayoperation_stran',\n",
       " 'churn_feature_target',\n",
       " 'churn_feature_mobile_sessions']"
      ]
     },
     "execution_count": 4,
     "metadata": {},
     "output_type": "execute_result"
    }
   ],
   "source": [
    "query_all_churn_tables= \"\"\"\n",
    "select distinct(table_name) from COLUMNS\n",
    "where table_schema='churn' and table_name like 'churn_feature%'\n",
    "\"\"\"\n",
    "\n",
    "cur_vert.execute(query_all_churn_tables)\n",
    "data = cur_vert.fetchall()\n",
    "tables = [record[0] for record in data]\n",
    "tables"
   ]
  },
  {
   "cell_type": "code",
   "execution_count": 4,
   "metadata": {
    "collapsed": true
   },
   "outputs": [],
   "source": [
    "tables = ([\n",
    "#  'churn_feature_cardtransaction_stran',\n",
    " 'churn_feature_num_cards'])"
   ]
  },
  {
   "cell_type": "code",
   "execution_count": 6,
   "metadata": {
    "collapsed": true
   },
   "outputs": [],
   "source": [
    "tables = ([\n",
    "#  'churn_feature_cardtransaction_stran',\n",
    " 'churn_feature_segments'])"
   ]
  },
  {
   "cell_type": "code",
   "execution_count": 60,
   "metadata": {
    "collapsed": false
   },
   "outputs": [
    {
     "name": "stdout",
     "output_type": "stream",
     "text": [
      "churn.churn_feature_segments is created for 7.2 seconds\n",
      "churn.churn_feature_segments is downloaded for total 30.0 seconds\n"
     ]
    }
   ],
   "source": [
    "for table_name_raw in tables:\n",
    "    table_name = 'churn.' + table_name_raw\n",
    "    query_to_save, src_file, dest_file = get_params(table_name)\n",
    "\n",
    "    start = dt.datetime.now()\n",
    "    create_remote_table(query_to_save, src_file)\n",
    "    print('{} is created for {:.1f} seconds'.format(table_name, (dt.datetime.now() - start).total_seconds()))\n",
    "    load_table_from_dh20_to_dh21(src_file, dest_file, clear_source=False, clear_dest_source=True, fast_rsync=True)\n",
    "    print('{} is downloaded for total {:.1f} seconds'.format(table_name, (dt.datetime.now() - start).total_seconds()))"
   ]
  },
  {
   "cell_type": "code",
   "execution_count": 49,
   "metadata": {
    "collapsed": false
   },
   "outputs": [
    {
     "name": "stdout",
     "output_type": "stream",
     "text": [
      "CPU times: user 6.94 s, sys: 564 ms, total: 7.51 s\n",
      "Wall time: 7.5 s\n"
     ]
    }
   ],
   "source": [
    "%%time\n",
    "df = pd.read_csv('/home/alfadata/data/churn/churn.churn_feature_segments.csv', sep=';')"
   ]
  },
  {
   "cell_type": "code",
   "execution_count": 51,
   "metadata": {
    "collapsed": false
   },
   "outputs": [],
   "source": [
    "df = df.iloc[:-1]"
   ]
  },
  {
   "cell_type": "code",
   "execution_count": 26,
   "metadata": {
    "collapsed": false
   },
   "outputs": [
    {
     "name": "stdout",
     "output_type": "stream",
     "text": [
      "churn_create_vertica_features.ipynb  join_all_data.ipynb\r\n",
      "churn_prediction.ipynb               \u001b[0m\u001b[01;32mjoin_all_data.py\u001b[0m*\r\n",
      "feature_engineering.ipynb            transfer_dh20_to_dh21.ipynb\r\n",
      "feature_engineering_sample.ipynb\r\n"
     ]
    }
   ],
   "source": [
    "ls"
   ]
  },
  {
   "cell_type": "code",
   "execution_count": 23,
   "metadata": {
    "collapsed": false
   },
   "outputs": [
    {
     "data": {
      "text/plain": [
       "0"
      ]
     },
     "execution_count": 23,
     "metadata": {},
     "output_type": "execute_result"
    }
   ],
   "source": [
    "os.system('touch file')"
   ]
  },
  {
   "cell_type": "code",
   "execution_count": 25,
   "metadata": {
    "collapsed": true
   },
   "outputs": [],
   "source": [
    "os.remove('/home/alfadata/scripts/aprotopopov/churn/file')"
   ]
  },
  {
   "cell_type": "code",
   "execution_count": null,
   "metadata": {
    "collapsed": true
   },
   "outputs": [],
   "source": []
  },
  {
   "cell_type": "code",
   "execution_count": 5,
   "metadata": {
    "collapsed": false
   },
   "outputs": [
    {
     "name": "stdout",
     "output_type": "stream",
     "text": [
      "CPU times: user 23.6 ms, sys: 28.9 ms, total: 52.5 ms\n",
      "Wall time: 13min 10s\n"
     ]
    }
   ],
   "source": [
    "%%time\n",
    "table_name = 'churn.churn_feature_num_cards'\n",
    "# query_to_save = 'select * from {} limit 100000'.format(table_name)\n",
    "# src_file = '/home/alfadata/data/{}.csv'.format(table_name)\n",
    "# dest_file = '/home/alfadata/data/churn/{}.csv'.format(table_name)\n",
    "query_to_save, src_file, dest_file = get_params(table_name)\n",
    "\n",
    "create_remote_table(query_to_save, src_file)\n",
    "load_table_from_dh20_to_dh21(src_file, dest_file, clear_source=False)\n",
    "# do_all_thats_stuff(query_to_save, src_file, dest_file, clear_source=False, sep=';')"
   ]
  },
  {
   "cell_type": "code",
   "execution_count": null,
   "metadata": {
    "collapsed": true
   },
   "outputs": [],
   "source": [
    "%%time\n",
    "table_name = 'oracle.client_sdim'\n",
    "query_to_save, src_file, dest_file = get_params(table_name)\n",
    "create_remote_table(query_to_save, src_file)\n",
    "load_table_from_dh20_to_dh21(src_file, dest_file, clear_source=False)\n",
    "# do_all_thats_stuff(query_to_save, src_file, dest_file, clear_source=False, sep=';')"
   ]
  },
  {
   "cell_type": "code",
   "execution_count": 58,
   "metadata": {
    "collapsed": false
   },
   "outputs": [
    {
     "name": "stdout",
     "output_type": "stream",
     "text": [
      "CPU times: user 20 µs, sys: 4 µs, total: 24 µs\n",
      "Wall time: 39.1 µs\n"
     ]
    }
   ],
   "source": [
    "%%time\n",
    "table_name = 'churn.churn_feature_epayoperation_stran'\n",
    "query_to_save, src_file, dest_file = get_params(table_name)\n",
    "create_remote_table(query_to_save, src_file)\n",
    "load_table_from_dh20_to_dh21(src_file, dest_file, clear_source=False)\n",
    "# do_all_thats_stuff(query_to_save, src_file, dest_file, clear_source=False, sep=';')"
   ]
  },
  {
   "cell_type": "code",
   "execution_count": 57,
   "metadata": {
    "collapsed": false
   },
   "outputs": [
    {
     "name": "stdout",
     "output_type": "stream",
     "text": [
      "CPU times: user 17.9 ms, sys: 21.6 ms, total: 39.5 ms\n",
      "Wall time: 9min 6s\n"
     ]
    }
   ],
   "source": [
    "%%time\n",
    "table_name = 'churn.churn_feature_cardtransaction_stran'\n",
    "query_to_save, src_file, dest_file = get_params(table_name)\n",
    "do_all_thats_stuff(query_to_save, src_file, dest_file, clear_source=False, sep=';')"
   ]
  },
  {
   "cell_type": "code",
   "execution_count": 70,
   "metadata": {
    "collapsed": false
   },
   "outputs": [
    {
     "name": "stdout",
     "output_type": "stream",
     "text": [
      "CPU times: user 9.54 ms, sys: 21.8 ms, total: 31.4 ms\n",
      "Wall time: 7min 9s\n"
     ]
    }
   ],
   "source": [
    "%%time\n",
    "table_name = 'churn.churn_feature_mobile_sessions'\n",
    "query_to_save, src_file, dest_file = get_params(table_name)\n",
    "do_all_thats_stuff(query_to_save, src_file, dest_file, clear_source=False, sep=';')"
   ]
  },
  {
   "cell_type": "code",
   "execution_count": 69,
   "metadata": {
    "collapsed": false
   },
   "outputs": [
    {
     "name": "stdout",
     "output_type": "stream",
     "text": [
      "CPU times: user 18.2 ms, sys: 27.5 ms, total: 45.7 ms\n",
      "Wall time: 11min 19s\n"
     ]
    }
   ],
   "source": [
    "%%time\n",
    "table_name = 'churn.churn_feature_target'\n",
    "query_to_save, src_file, dest_file = get_params(table_name)\n",
    "do_all_thats_stuff(query_to_save, src_file, dest_file, clear_source=False, sep=';')"
   ]
  },
  {
   "cell_type": "code",
   "execution_count": null,
   "metadata": {
    "collapsed": true
   },
   "outputs": [],
   "source": [
    "# create_remote_table(query_to_save, src_file)\n",
    "# load_table_from_dh20_to_dh21(src_file, dest_file, clear_source=False)"
   ]
  },
  {
   "cell_type": "code",
   "execution_count": 63,
   "metadata": {
    "collapsed": false,
    "scrolled": true
   },
   "outputs": [
    {
     "name": "stdout",
     "output_type": "stream",
     "text": [
      "CPU times: user 2.05 ms, sys: 9.84 ms, total: 11.9 ms\n",
      "Wall time: 9.75 s\n"
     ]
    }
   ],
   "source": [
    "%%time\n",
    "table_name = 'churn.churn_feature_money_withdraw'\n",
    "query_to_save, src_file, dest_file = get_params(table_name)\n",
    "do_all_thats_stuff(query_to_save, src_file, dest_file, clear_source=False, sep=';')"
   ]
  }
 ],
 "metadata": {
  "anaconda-cloud": {},
  "kernelspec": {
   "display_name": "Python 3",
   "language": "python",
   "name": "python3"
  },
  "language_info": {
   "codemirror_mode": {
    "name": "ipython",
    "version": 3
   },
   "file_extension": ".py",
   "mimetype": "text/x-python",
   "name": "python",
   "nbconvert_exporter": "python",
   "pygments_lexer": "ipython3",
   "version": "3.5.2"
  }
 },
 "nbformat": 4,
 "nbformat_minor": 1
}
