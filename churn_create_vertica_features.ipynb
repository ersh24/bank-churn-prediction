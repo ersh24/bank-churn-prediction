{
 "cells": [
  {
   "cell_type": "code",
   "execution_count": 2,
   "metadata": {
    "collapsed": true
   },
   "outputs": [],
   "source": [
    "import vertica_python \n",
    "import datetime as dt\n",
    "#import itertools as it\n",
    "import numpy as np\n",
    "import pandas as pd\n",
    "import os"
   ]
  },
  {
   "cell_type": "markdown",
   "metadata": {},
   "source": [
    "#### Будем создавать исходные переменные для модели прямо в Вертике для того, чтобы потом оттуда все выкачать и заджойнить в финальной моделе"
   ]
  },
  {
   "cell_type": "code",
   "execution_count": 3,
   "metadata": {
    "collapsed": true
   },
   "outputs": [],
   "source": [
    "conn_vert = vertica_python.connect(host = host, port=5433, user=user, password=pass, database=base)\n",
    "cur_vert = conn_vert.cursor()"
   ]
  },
  {
   "cell_type": "code",
   "execution_count": 1,
   "metadata": {
    "collapsed": true
   },
   "outputs": [],
   "source": [
    "# 2queries, drop table churn.week_start, create table churn.week_start with new weeks\n",
    "query_create_week_start = \"\"\" \n",
    "-- recreate churn.week_start with new dates\n",
    "drop table if exists churn.week_start\n",
    ";\n",
    "create table churn.week_start as\n",
    "select distinct(date(date_trunc('week', event_date))) as week_start from mobile_sessions\n",
    "\"\"\""
   ]
  },
  {
   "cell_type": "code",
   "execution_count": 17,
   "metadata": {
    "collapsed": false
   },
   "outputs": [
    {
     "name": "stdout",
     "output_type": "stream",
     "text": [
      "CPU times: user 1.92 ms, sys: 1.46 ms, total: 3.37 ms\n",
      "Wall time: 5.04 s\n"
     ]
    }
   ],
   "source": [
    "%%time\n",
    "cur_vert.execute(query_create_week_start)"
   ]
  },
  {
   "cell_type": "code",
   "execution_count": 14,
   "metadata": {
    "collapsed": true
   },
   "outputs": [],
   "source": [
    "query_create_churn_mobile_clients = \"\"\"\n",
    "drop table if exists churn.mobile_clients\n",
    ";\n",
    "create table churn.mobile_clients as\n",
    "select distinct(customer_id) from mobile_sessions\n",
    ";\"\"\""
   ]
  },
  {
   "cell_type": "code",
   "execution_count": 15,
   "metadata": {
    "collapsed": false
   },
   "outputs": [
    {
     "name": "stdout",
     "output_type": "stream",
     "text": [
      "CPU times: user 2.61 ms, sys: 2.14 ms, total: 4.75 ms\n",
      "Wall time: 33.3 s\n"
     ]
    }
   ],
   "source": [
    "%%time\n",
    "cur_vert.execute(query_create_churn_mobile_clients)"
   ]
  },
  {
   "cell_type": "code",
   "execution_count": 8,
   "metadata": {
    "collapsed": true
   },
   "outputs": [],
   "source": [
    "# 3 queries, delete last week, update for old users new week, add new users with all weeks\n",
    "query_update_clients_week_start = \"\"\"\n",
    "-- drop last week due to probably incomplete\n",
    "delete from churn.clients_week_start where week_start = (select max(week_start) from churn.clients_week_start)\n",
    ";\n",
    "-- insert last weeks for previous users\n",
    "-- IT SHOULD BE FIRST before inserting all weeks for newer users\n",
    "insert into churn.clients_week_start select * from ( \n",
    "    select a.customer_id, b.week_start from (\n",
    "        (select distinct(customer_id) from churn.clients_week_start) \n",
    "    ) a \n",
    "    cross join (select * from churn.week_start where week_start > (select max(week_start) from churn.clients_week_start)) b\n",
    ") c\n",
    ";\n",
    "-- insert all weeks for users who come in last periods\n",
    "insert into churn.clients_week_start select * from ( \n",
    "    select a.customer_id, b.week_start from (\n",
    "        (select distinct(customer_id) from mobile_sessions \n",
    "            where event_date > (select max(week_start) from churn.clients_week_start)\n",
    "            and customer_id not in (select distinct(customer_id) from churn.clients_week_start)\n",
    "        ) \n",
    "    ) a \n",
    "    cross join churn.week_start b\n",
    ") c\n",
    "\"\"\""
   ]
  },
  {
   "cell_type": "code",
   "execution_count": 9,
   "metadata": {
    "collapsed": false
   },
   "outputs": [],
   "source": [
    "%%time\n",
    "cur_vert.execute(query_update_clients_week_start)"
   ]
  },
  {
   "cell_type": "code",
   "execution_count": 6,
   "metadata": {
    "collapsed": true
   },
   "outputs": [],
   "source": [
    "# another variant to create clients_week_start from scratch\n",
    "query_create_clients_week_start = \"\"\"\n",
    "drop table if exists churn.clients_week_start\n",
    ";\n",
    "create table churn.clients_week_start as\n",
    "select a.customer_id as client_pin, b.week_start from (select distinct(customer_id) from mobile_sessions) a \n",
    "cross join churn.week_start b \n",
    "\"\"\""
   ]
  },
  {
   "cell_type": "code",
   "execution_count": 7,
   "metadata": {
    "collapsed": false
   },
   "outputs": [
    {
     "name": "stdout",
     "output_type": "stream",
     "text": [
      "CPU times: user 5.52 ms, sys: 7.03 ms, total: 12.6 ms\n",
      "Wall time: 3min 35s\n"
     ]
    }
   ],
   "source": [
    "# %%time\n",
    "# cur_vert.execute(query_create_clients_week_start)"
   ]
  },
  {
   "cell_type": "code",
   "execution_count": 11,
   "metadata": {
    "collapsed": false
   },
   "outputs": [],
   "source": [
    "# delete records for last week and add everything till now\n",
    "query_update_churn_feature_target=\"\"\"\n",
    "delete from churn.churn_feature_target where week_start = (select max(week_start) from churn.churn_feature_target)\n",
    ";\n",
    "insert into churn.churn_feature_target select * from (\n",
    "    select a.*, case when b.exist = 1 then 1 else 0 end as target \n",
    "    from churn.clients_week_start a\n",
    "    left join\n",
    "    (select 1 as exist, customer_id as client_pin, timestampadd('week', -1, (date(date_trunc('week', event_date)))) as week_start\n",
    "        from mobile_sessions \n",
    "        where operation like 'Successful%login' and event_date > (select max(week_start) from churn.churn_feature_target)\n",
    "        group by customer_id, week_start\n",
    "        order by week_start) b\n",
    "    on a.client_pin = b.client_pin and a.week_start = b.week_start \n",
    " ) c\n",
    ";\n",
    "\"\"\""
   ]
  },
  {
   "cell_type": "code",
   "execution_count": 8,
   "metadata": {
    "collapsed": true
   },
   "outputs": [],
   "source": [
    "## create whole table from scratch\n",
    "query_create_churn_feature_target = \"\"\"\n",
    "drop table if exists churn.churn_feature_target\n",
    ";\n",
    "create table churn.churn_feature_target as \n",
    "select a.*, case when b.exist = 1 then 1 else 0 end as target \n",
    "from churn.clients_week_start a\n",
    "left join\n",
    "(select 1 as exist, customer_id as client_pin, timestampadd('week', -1, (date(date_trunc('week', event_date)))) as week_start\n",
    "    from mobile_sessions \n",
    "    where operation like 'Successful%login'\n",
    "    group by customer_id, week_start\n",
    "    order by week_start) b\n",
    "on a.client_pin = b.client_pin and a.week_start = b.week_start\n",
    "\"\"\""
   ]
  },
  {
   "cell_type": "code",
   "execution_count": 9,
   "metadata": {
    "collapsed": false
   },
   "outputs": [
    {
     "name": "stdout",
     "output_type": "stream",
     "text": [
      "CPU times: user 11.2 ms, sys: 11.9 ms, total: 23.1 ms\n",
      "Wall time: 9min 16s\n"
     ]
    }
   ],
   "source": [
    "# %%time\n",
    "# cur_vert.execute(query_create_churn_feature_target)"
   ]
  },
  {
   "cell_type": "code",
   "execution_count": 10,
   "metadata": {
    "collapsed": true
   },
   "outputs": [],
   "source": [
    "## drop and create churn_feature_num_cards from scratch\n",
    "query_create_churn_feature_num_cards = \"\"\"\n",
    "drop table if exists churn.churn_feature_num_cards\n",
    ";\n",
    "create table churn.churn_feature_num_cards as\n",
    "select \n",
    "    week_start, \n",
    "    client_pin, \n",
    "    -- count debit and credit cards\n",
    "    sum(case when a.week_start > b.start_date and a.week_start < b.expire_date and cardtype_ccode='D' then 1 else 0 end) as count_debit,\n",
    "    sum(case when a.week_start > b.start_date and a.week_start < b.expire_date and cardtype_ccode='C' then 1 else 0 end) as count_credit\n",
    "        from \n",
    "            (select week_start, client_pin from churn.clients_week_start) a\n",
    "            left join \n",
    "                -- select cards which was issued and not deleted\n",
    "                (select client_owner_pin, start_date, expire_date, cardtype_ccode from oracle.card_sdim\n",
    "                where \n",
    "                    expire_date > '2015-01-01' \n",
    "                    and issuedcard_flag = 'Y'\n",
    "                    and deleted_flag = 'N'\n",
    "                ) b\n",
    "            on a.client_pin = b.client_owner_pin\n",
    "group by week_start, client_pin\n",
    "\"\"\""
   ]
  },
  {
   "cell_type": "code",
   "execution_count": 11,
   "metadata": {
    "collapsed": false
   },
   "outputs": [
    {
     "name": "stdout",
     "output_type": "stream",
     "text": [
      "CPU times: user 8.69 ms, sys: 9.85 ms, total: 18.5 ms\n",
      "Wall time: 7min 35s\n"
     ]
    }
   ],
   "source": [
    "%%time\n",
    "cur_vert.execute(query_create_churn_feature_num_cards)"
   ]
  },
  {
   "cell_type": "code",
   "execution_count": 16,
   "metadata": {
    "collapsed": true
   },
   "outputs": [],
   "source": [
    "query_create_churn_feature_info_clients = \"\"\"create table churn.churn_feature_info_clients as\n",
    "select  \n",
    "    a.client_pin,\n",
    "    a.week_start,\n",
    "    b.gender_uk,\n",
    "    b.country_uk,\n",
    "    (a.week_start - date(b.birth_date))/365.2425 as age,\n",
    "    a.week_start - date(b.start_date) as client_life_span\n",
    "from churn.clients_week_start a\n",
    "left join oracle.client_sdim b\n",
    "on a.client_pin = b.client_pin\n",
    "where a.week_start - date(b.start_date) >= 0\"\"\""
   ]
  },
  {
   "cell_type": "code",
   "execution_count": 17,
   "metadata": {
    "collapsed": false
   },
   "outputs": [
    {
     "name": "stdout",
     "output_type": "stream",
     "text": [
      "CPU times: user 9.57 ms, sys: 10.5 ms, total: 20 ms\n",
      "Wall time: 8min 2s\n"
     ]
    }
   ],
   "source": [
    "%%time\n",
    "cur_vert.execute(query_create_churn_feature_info_clients)"
   ]
  }
 ],
 "metadata": {
  "anaconda-cloud": {},
  "kernelspec": {
   "display_name": "Python 3",
   "language": "python",
   "name": "python3"
  },
  "language_info": {
   "codemirror_mode": {
    "name": "ipython",
    "version": 3
   },
   "file_extension": ".py",
   "mimetype": "text/x-python",
   "name": "python",
   "nbconvert_exporter": "python",
   "pygments_lexer": "ipython3",
   "version": "3.5.2"
  }
 },
 "nbformat": 4,
 "nbformat_minor": 1
}
