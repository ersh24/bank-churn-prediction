{
 "cells": [
  {
   "cell_type": "code",
   "execution_count": 53,
   "metadata": {
    "collapsed": true
   },
   "outputs": [],
   "source": [
    "%matplotlib inline\n",
    "import numpy as np\n",
    "import pandas as pd\n",
    "import matplotlib.pyplot as plt\n",
    "import seaborn as sns\n",
    "import vertica_python"
   ]
  },
  {
   "cell_type": "markdown",
   "metadata": {},
   "source": [
    "#### Надо проверить некоторых людей действительно ли они похожы на отток и посмотреть паттерны оттока, а также разбить всех пользователей на бины для определения необходимого колличества людей для коммуникации"
   ]
  },
  {
   "cell_type": "markdown",
   "metadata": {},
   "source": [
    "#### Настроим соединение с вертикой"
   ]
  },
  {
   "cell_type": "code",
   "execution_count": 54,
   "metadata": {
    "collapsed": true
   },
   "outputs": [],
   "source": [
    "conn_vert = vertica_python.connect(host = \"XXXXX\", port=XXXX, user=\"XXXX\", password=\"XXXXX\", database=\"testdb\")\n",
    "cur_vert = conn_vert.cursor()"
   ]
  },
  {
   "cell_type": "markdown",
   "metadata": {},
   "source": [
    "#### будем проверять предскаязания по оттоку клиентов"
   ]
  },
  {
   "cell_type": "code",
   "execution_count": null,
   "metadata": {
    "collapsed": true
   },
   "outputs": [],
   "source": [
    "query = \"\"\"\n",
    "select customer_id, date_trunc('week', event_date) as event_date, count(*) from mobile_sessions\n",
    "where customer_id = 'AMNKIE'\n",
    "--where customer_id in ('AB9WK2', 'AL7M64', 'ALEWQX', 'ACJFTD', 'AMCEZA', 'H25306', 'AL3OPW', 'E06973', 'AMJXXF', 'ALS3DZ', 'AMROL2', 'AMPN1T', 'AMJ7R8', 'ALCK38', 'AMNXKC', 'AMJFFE', 'ALWCAT', 'AMQL1P', 'AMQYW3', 'AIVFJS')\n",
    "and event_date > '2016-09-01'\n",
    "group by customer_id, date_trunc('week', event_date)\n",
    "order by customer_id, event_date\n",
    "\"\"\""
   ]
  },
  {
   "cell_type": "code",
   "execution_count": 2,
   "metadata": {
    "collapsed": true
   },
   "outputs": [],
   "source": [
    "df = pd.read_csv('/home/alfadata/data/churn/cleaned_df/predictions_all.csv', index_col=0)"
   ]
  },
  {
   "cell_type": "code",
   "execution_count": 5,
   "metadata": {
    "collapsed": false
   },
   "outputs": [
    {
     "data": {
      "text/html": [
       "<div>\n",
       "<table border=\"1\" class=\"dataframe\">\n",
       "  <thead>\n",
       "    <tr style=\"text-align: right;\">\n",
       "      <th></th>\n",
       "      <th>client_pin</th>\n",
       "      <th>proba</th>\n",
       "    </tr>\n",
       "  </thead>\n",
       "  <tbody>\n",
       "    <tr>\n",
       "      <th>0</th>\n",
       "      <td>A00327</td>\n",
       "      <td>7.769858e-06</td>\n",
       "    </tr>\n",
       "    <tr>\n",
       "      <th>1</th>\n",
       "      <td>A00540</td>\n",
       "      <td>1.328267e-03</td>\n",
       "    </tr>\n",
       "    <tr>\n",
       "      <th>2</th>\n",
       "      <td>A03337</td>\n",
       "      <td>1.483949e-02</td>\n",
       "    </tr>\n",
       "    <tr>\n",
       "      <th>3</th>\n",
       "      <td>A03339</td>\n",
       "      <td>2.783633e-10</td>\n",
       "    </tr>\n",
       "    <tr>\n",
       "      <th>4</th>\n",
       "      <td>A17776</td>\n",
       "      <td>2.120494e-01</td>\n",
       "    </tr>\n",
       "  </tbody>\n",
       "</table>\n",
       "</div>"
      ],
      "text/plain": [
       "  client_pin         proba\n",
       "0     A00327  7.769858e-06\n",
       "1     A00540  1.328267e-03\n",
       "2     A03337  1.483949e-02\n",
       "3     A03339  2.783633e-10\n",
       "4     A17776  2.120494e-01"
      ]
     },
     "execution_count": 5,
     "metadata": {},
     "output_type": "execute_result"
    }
   ],
   "source": [
    "df.head()"
   ]
  },
  {
   "cell_type": "code",
   "execution_count": 3,
   "metadata": {
    "collapsed": false
   },
   "outputs": [],
   "source": [
    "df = df.sort_values(by='proba', ascending=False)"
   ]
  },
  {
   "cell_type": "code",
   "execution_count": 4,
   "metadata": {
    "collapsed": false
   },
   "outputs": [
    {
     "data": {
      "text/html": [
       "<div>\n",
       "<table border=\"1\" class=\"dataframe\">\n",
       "  <thead>\n",
       "    <tr style=\"text-align: right;\">\n",
       "      <th></th>\n",
       "      <th>client_pin</th>\n",
       "      <th>proba</th>\n",
       "    </tr>\n",
       "  </thead>\n",
       "  <tbody>\n",
       "    <tr>\n",
       "      <th>80564</th>\n",
       "      <td>AB9WK2</td>\n",
       "      <td>0.978379</td>\n",
       "    </tr>\n",
       "    <tr>\n",
       "      <th>760525</th>\n",
       "      <td>AL7M64</td>\n",
       "      <td>0.948193</td>\n",
       "    </tr>\n",
       "    <tr>\n",
       "      <th>786330</th>\n",
       "      <td>ALEWQX</td>\n",
       "      <td>0.940144</td>\n",
       "    </tr>\n",
       "    <tr>\n",
       "      <th>162626</th>\n",
       "      <td>ACJFTD</td>\n",
       "      <td>0.939424</td>\n",
       "    </tr>\n",
       "    <tr>\n",
       "      <th>886961</th>\n",
       "      <td>AMCEZA</td>\n",
       "      <td>0.937349</td>\n",
       "    </tr>\n",
       "  </tbody>\n",
       "</table>\n",
       "</div>"
      ],
      "text/plain": [
       "       client_pin     proba\n",
       "80564      AB9WK2  0.978379\n",
       "760525     AL7M64  0.948193\n",
       "786330     ALEWQX  0.940144\n",
       "162626     ACJFTD  0.939424\n",
       "886961     AMCEZA  0.937349"
      ]
     },
     "execution_count": 4,
     "metadata": {},
     "output_type": "execute_result"
    }
   ],
   "source": [
    "df.head()"
   ]
  },
  {
   "cell_type": "code",
   "execution_count": 13,
   "metadata": {
    "collapsed": false
   },
   "outputs": [
    {
     "data": {
      "text/html": [
       "<div>\n",
       "<table border=\"1\" class=\"dataframe\">\n",
       "  <thead>\n",
       "    <tr style=\"text-align: right;\">\n",
       "      <th></th>\n",
       "      <th>client_pin</th>\n",
       "      <th>proba</th>\n",
       "    </tr>\n",
       "  </thead>\n",
       "  <tbody>\n",
       "    <tr>\n",
       "      <th>67135</th>\n",
       "      <td>AB1UMH</td>\n",
       "      <td>0.0</td>\n",
       "    </tr>\n",
       "    <tr>\n",
       "      <th>841543</th>\n",
       "      <td>ALS94Z</td>\n",
       "      <td>0.0</td>\n",
       "    </tr>\n",
       "    <tr>\n",
       "      <th>77339</th>\n",
       "      <td>AB80E4</td>\n",
       "      <td>0.0</td>\n",
       "    </tr>\n",
       "    <tr>\n",
       "      <th>615896</th>\n",
       "      <td>AJUT62</td>\n",
       "      <td>0.0</td>\n",
       "    </tr>\n",
       "    <tr>\n",
       "      <th>316278</th>\n",
       "      <td>AFDI1D</td>\n",
       "      <td>0.0</td>\n",
       "    </tr>\n",
       "  </tbody>\n",
       "</table>\n",
       "</div>"
      ],
      "text/plain": [
       "       client_pin  proba\n",
       "67135      AB1UMH    0.0\n",
       "841543     ALS94Z    0.0\n",
       "77339      AB80E4    0.0\n",
       "615896     AJUT62    0.0\n",
       "316278     AFDI1D    0.0"
      ]
     },
     "execution_count": 13,
     "metadata": {},
     "output_type": "execute_result"
    }
   ],
   "source": [
    "df.tail()"
   ]
  },
  {
   "cell_type": "code",
   "execution_count": 57,
   "metadata": {
    "collapsed": false
   },
   "outputs": [
    {
     "data": {
      "text/html": [
       "<div>\n",
       "<table border=\"1\" class=\"dataframe\">\n",
       "  <thead>\n",
       "    <tr style=\"text-align: right;\">\n",
       "      <th></th>\n",
       "      <th>client_pin</th>\n",
       "      <th>proba</th>\n",
       "    </tr>\n",
       "  </thead>\n",
       "  <tbody>\n",
       "    <tr>\n",
       "      <th>1020249</th>\n",
       "      <td>E06973</td>\n",
       "      <td>0.900236</td>\n",
       "    </tr>\n",
       "  </tbody>\n",
       "</table>\n",
       "</div>"
      ],
      "text/plain": [
       "        client_pin     proba\n",
       "1020249     E06973  0.900236"
      ]
     },
     "execution_count": 57,
     "metadata": {},
     "output_type": "execute_result"
    }
   ],
   "source": [
    "df[df.client_pin == 'E06973']"
   ]
  },
  {
   "cell_type": "code",
   "execution_count": 16,
   "metadata": {
    "collapsed": false
   },
   "outputs": [
    {
     "data": {
      "text/html": [
       "<div>\n",
       "<table border=\"1\" class=\"dataframe\">\n",
       "  <thead>\n",
       "    <tr style=\"text-align: right;\">\n",
       "      <th></th>\n",
       "      <th>client_pin</th>\n",
       "      <th>proba</th>\n",
       "    </tr>\n",
       "  </thead>\n",
       "  <tbody>\n",
       "    <tr>\n",
       "      <th>836041</th>\n",
       "      <td>ALR7F3</td>\n",
       "      <td>0.0</td>\n",
       "    </tr>\n",
       "    <tr>\n",
       "      <th>185451</th>\n",
       "      <td>AD2J3V</td>\n",
       "      <td>0.0</td>\n",
       "    </tr>\n",
       "    <tr>\n",
       "      <th>671646</th>\n",
       "      <td>AKG8MJ</td>\n",
       "      <td>0.0</td>\n",
       "    </tr>\n",
       "    <tr>\n",
       "      <th>890434</th>\n",
       "      <td>AMD5H1</td>\n",
       "      <td>0.0</td>\n",
       "    </tr>\n",
       "    <tr>\n",
       "      <th>145109</th>\n",
       "      <td>AC8YZ0</td>\n",
       "      <td>0.0</td>\n",
       "    </tr>\n",
       "  </tbody>\n",
       "</table>\n",
       "</div>"
      ],
      "text/plain": [
       "       client_pin  proba\n",
       "836041     ALR7F3    0.0\n",
       "185451     AD2J3V    0.0\n",
       "671646     AKG8MJ    0.0\n",
       "890434     AMD5H1    0.0\n",
       "145109     AC8YZ0    0.0"
      ]
     },
     "execution_count": 16,
     "metadata": {},
     "output_type": "execute_result"
    }
   ],
   "source": [
    "df[df.proba == 0].sample(5)"
   ]
  },
  {
   "cell_type": "code",
   "execution_count": 45,
   "metadata": {
    "collapsed": false
   },
   "outputs": [
    {
     "data": {
      "text/html": [
       "<div>\n",
       "<table border=\"1\" class=\"dataframe\">\n",
       "  <thead>\n",
       "    <tr style=\"text-align: right;\">\n",
       "      <th></th>\n",
       "      <th>client_pin</th>\n",
       "      <th>proba</th>\n",
       "    </tr>\n",
       "  </thead>\n",
       "  <tbody>\n",
       "    <tr>\n",
       "      <th>771116</th>\n",
       "      <td>ALAM65</td>\n",
       "      <td>0.802348</td>\n",
       "    </tr>\n",
       "    <tr>\n",
       "      <th>977538</th>\n",
       "      <td>AMNKIE</td>\n",
       "      <td>0.691465</td>\n",
       "    </tr>\n",
       "    <tr>\n",
       "      <th>953803</th>\n",
       "      <td>AMKVT0</td>\n",
       "      <td>0.774446</td>\n",
       "    </tr>\n",
       "    <tr>\n",
       "      <th>149679</th>\n",
       "      <td>ACBGTN</td>\n",
       "      <td>0.739745</td>\n",
       "    </tr>\n",
       "    <tr>\n",
       "      <th>476352</th>\n",
       "      <td>AHXCHZ</td>\n",
       "      <td>0.767884</td>\n",
       "    </tr>\n",
       "  </tbody>\n",
       "</table>\n",
       "</div>"
      ],
      "text/plain": [
       "       client_pin     proba\n",
       "771116     ALAM65  0.802348\n",
       "977538     AMNKIE  0.691465\n",
       "953803     AMKVT0  0.774446\n",
       "149679     ACBGTN  0.739745\n",
       "476352     AHXCHZ  0.767884"
      ]
     },
     "execution_count": 45,
     "metadata": {},
     "output_type": "execute_result"
    }
   ],
   "source": [
    "df[df.proba > 0.6].sample(5)"
   ]
  },
  {
   "cell_type": "code",
   "execution_count": 12,
   "metadata": {
    "collapsed": false
   },
   "outputs": [
    {
     "name": "stdout",
     "output_type": "stream",
     "text": [
      "('AB9WK2', 'AL7M64', 'ALEWQX', 'ACJFTD', 'AMCEZA', 'H25306', 'AL3OPW', 'E06973', 'AMJXXF', 'ALS3DZ', 'AMROL2', 'AMPN1T', 'AMJ7R8', 'ALCK38', 'AMNXKC', 'AMJFFE', 'ALWCAT', 'AMQL1P', 'AMQYW3', 'AIVFJS')\n"
     ]
    }
   ],
   "source": [
    "print(tuple(df.iloc[:20, 0].tolist()))"
   ]
  },
  {
   "cell_type": "code",
   "execution_count": 10,
   "metadata": {
    "collapsed": false
   },
   "outputs": [
    {
     "data": {
      "text/plain": [
       "(1070807,)"
      ]
     },
     "execution_count": 10,
     "metadata": {},
     "output_type": "execute_result"
    }
   ],
   "source": [
    "df.proba.shape"
   ]
  },
  {
   "cell_type": "code",
   "execution_count": 56,
   "metadata": {
    "collapsed": false
   },
   "outputs": [
    {
     "data": {
      "text/plain": [
       "568666"
      ]
     },
     "execution_count": 56,
     "metadata": {},
     "output_type": "execute_result"
    }
   ],
   "source": [
    "(df.proba < 0.1).sum()"
   ]
  },
  {
   "cell_type": "code",
   "execution_count": 52,
   "metadata": {
    "collapsed": false
   },
   "outputs": [
    {
     "data": {
      "text/plain": [
       "396995"
      ]
     },
     "execution_count": 52,
     "metadata": {},
     "output_type": "execute_result"
    }
   ],
   "source": [
    "(df.proba < 0.01).sum()"
   ]
  },
  {
   "cell_type": "markdown",
   "metadata": {},
   "source": [
    "#### Посмотрим на распределение вероятностей оттока. Все выглядит неплохо потому что у большинства клиентов действительно вероятность оттока маленькая"
   ]
  },
  {
   "cell_type": "code",
   "execution_count": 6,
   "metadata": {
    "collapsed": false
   },
   "outputs": [
    {
     "name": "stderr",
     "output_type": "stream",
     "text": [
      "/opt/anaconda3/lib/python3.5/site-packages/statsmodels/nonparametric/kdetools.py:20: VisibleDeprecationWarning: using a non-integer number instead of an integer will result in an error in the future\n",
      "  y = X[:m/2+1] + np.r_[0,X[m/2+1:],0]*1j\n"
     ]
    },
    {
     "data": {
      "text/plain": [
       "<matplotlib.axes._subplots.AxesSubplot at 0x7fdf2077d518>"
      ]
     },
     "execution_count": 6,
     "metadata": {},
     "output_type": "execute_result"
    },
    {
     "data": {
      "image/png": "[encoded data removed]",
      "text/plain": [
       "<matplotlib.figure.Figure at 0x7fdecf70b588>"
      ]
     },
     "metadata": {},
     "output_type": "display_data"
    }
   ],
   "source": [
    "fig, ax = plt.subplots(1, figsize=(12, 8))\n",
    "sns.distplot(df.proba, ax=ax, bins=100)"
   ]
  },
  {
   "cell_type": "code",
   "execution_count": 22,
   "metadata": {
    "collapsed": false
   },
   "outputs": [
    {
     "data": {
      "text/plain": [
       "array([ 0. ,  0.1,  0.2,  0.3,  0.4,  0.5,  0.6,  0.7,  0.8,  0.9,  1. ])"
      ]
     },
     "execution_count": 22,
     "metadata": {},
     "output_type": "execute_result"
    }
   ],
   "source": [
    "np.arange(0, 1.1, 0.1)"
   ]
  },
  {
   "cell_type": "markdown",
   "metadata": {},
   "source": [
    "#### Разобьем всех клиентов на бины по предсказаниям "
   ]
  },
  {
   "cell_type": "code",
   "execution_count": 71,
   "metadata": {
    "collapsed": false
   },
   "outputs": [
    {
     "data": {
      "text/html": [
       "<div>\n",
       "<table border=\"1\" class=\"dataframe\">\n",
       "  <thead>\n",
       "    <tr style=\"text-align: right;\">\n",
       "      <th></th>\n",
       "      <th>count_per_prob</th>\n",
       "      <th>cumsum</th>\n",
       "    </tr>\n",
       "    <tr>\n",
       "      <th>bins_proba</th>\n",
       "      <th></th>\n",
       "      <th></th>\n",
       "    </tr>\n",
       "  </thead>\n",
       "  <tbody>\n",
       "    <tr>\n",
       "      <th>[0, 0.05)</th>\n",
       "      <td>506998</td>\n",
       "      <td>1070807</td>\n",
       "    </tr>\n",
       "    <tr>\n",
       "      <th>[0.05, 0.1)</th>\n",
       "      <td>61668</td>\n",
       "      <td>563809</td>\n",
       "    </tr>\n",
       "    <tr>\n",
       "      <th>[0.1, 0.15)</th>\n",
       "      <td>42863</td>\n",
       "      <td>502141</td>\n",
       "    </tr>\n",
       "    <tr>\n",
       "      <th>[0.15, 0.2)</th>\n",
       "      <td>35207</td>\n",
       "      <td>459278</td>\n",
       "    </tr>\n",
       "    <tr>\n",
       "      <th>[0.2, 0.25)</th>\n",
       "      <td>31363</td>\n",
       "      <td>424071</td>\n",
       "    </tr>\n",
       "    <tr>\n",
       "      <th>[0.25, 0.3)</th>\n",
       "      <td>29396</td>\n",
       "      <td>392708</td>\n",
       "    </tr>\n",
       "    <tr>\n",
       "      <th>[0.3, 0.35)</th>\n",
       "      <td>28233</td>\n",
       "      <td>363312</td>\n",
       "    </tr>\n",
       "    <tr>\n",
       "      <th>[0.35, 0.4)</th>\n",
       "      <td>28611</td>\n",
       "      <td>335079</td>\n",
       "    </tr>\n",
       "    <tr>\n",
       "      <th>[0.4, 0.45)</th>\n",
       "      <td>29723</td>\n",
       "      <td>306468</td>\n",
       "    </tr>\n",
       "    <tr>\n",
       "      <th>[0.45, 0.5)</th>\n",
       "      <td>31283</td>\n",
       "      <td>276745</td>\n",
       "    </tr>\n",
       "    <tr>\n",
       "      <th>[0.5, 0.55)</th>\n",
       "      <td>34473</td>\n",
       "      <td>245462</td>\n",
       "    </tr>\n",
       "    <tr>\n",
       "      <th>[0.55, 0.6)</th>\n",
       "      <td>38138</td>\n",
       "      <td>210989</td>\n",
       "    </tr>\n",
       "    <tr>\n",
       "      <th>[0.6, 0.65)</th>\n",
       "      <td>44526</td>\n",
       "      <td>172851</td>\n",
       "    </tr>\n",
       "    <tr>\n",
       "      <th>[0.65, 0.7)</th>\n",
       "      <td>48834</td>\n",
       "      <td>128325</td>\n",
       "    </tr>\n",
       "    <tr>\n",
       "      <th>[0.7, 0.75)</th>\n",
       "      <td>51116</td>\n",
       "      <td>79491</td>\n",
       "    </tr>\n",
       "    <tr>\n",
       "      <th>[0.75, 0.8)</th>\n",
       "      <td>23699</td>\n",
       "      <td>28375</td>\n",
       "    </tr>\n",
       "    <tr>\n",
       "      <th>[0.8, 0.85)</th>\n",
       "      <td>4616</td>\n",
       "      <td>4676</td>\n",
       "    </tr>\n",
       "    <tr>\n",
       "      <th>[0.85, 0.9)</th>\n",
       "      <td>52</td>\n",
       "      <td>60</td>\n",
       "    </tr>\n",
       "    <tr>\n",
       "      <th>[0.9, 0.95)</th>\n",
       "      <td>7</td>\n",
       "      <td>8</td>\n",
       "    </tr>\n",
       "    <tr>\n",
       "      <th>[0.95, 1)</th>\n",
       "      <td>1</td>\n",
       "      <td>1</td>\n",
       "    </tr>\n",
       "  </tbody>\n",
       "</table>\n",
       "</div>"
      ],
      "text/plain": [
       "             count_per_prob   cumsum\n",
       "bins_proba                          \n",
       "[0, 0.05)            506998  1070807\n",
       "[0.05, 0.1)           61668   563809\n",
       "[0.1, 0.15)           42863   502141\n",
       "[0.15, 0.2)           35207   459278\n",
       "[0.2, 0.25)           31363   424071\n",
       "[0.25, 0.3)           29396   392708\n",
       "[0.3, 0.35)           28233   363312\n",
       "[0.35, 0.4)           28611   335079\n",
       "[0.4, 0.45)           29723   306468\n",
       "[0.45, 0.5)           31283   276745\n",
       "[0.5, 0.55)           34473   245462\n",
       "[0.55, 0.6)           38138   210989\n",
       "[0.6, 0.65)           44526   172851\n",
       "[0.65, 0.7)           48834   128325\n",
       "[0.7, 0.75)           51116    79491\n",
       "[0.75, 0.8)           23699    28375\n",
       "[0.8, 0.85)            4616     4676\n",
       "[0.85, 0.9)              52       60\n",
       "[0.9, 0.95)               7        8\n",
       "[0.95, 1)                 1        1"
      ]
     },
     "execution_count": 71,
     "metadata": {},
     "output_type": "execute_result"
    }
   ],
   "source": [
    "bins_range = np.arange(0, 1.001, 0.05)\n",
    "bins_proba = pd.cut(df.proba, bins=bins_range, right=False).rename('bins_proba')\n",
    "df_counts = pd.concat([df, bins_proba], axis=1).groupby('bins_proba').size()\n",
    "df_counts_cumsum = pd.concat([df, bins_proba], axis=1).groupby('bins_proba').size()[::-1].cumsum()[::-1]\n",
    "pd.concat([df_counts.rename('count_per_prob'), df_counts_cumsum.rename('cumsum')], axis=1)"
   ]
  },
  {
   "cell_type": "code",
   "execution_count": 66,
   "metadata": {
    "collapsed": false
   },
   "outputs": [],
   "source": [
    "q = pd.concat([df, bins_proba], axis=1).groupby('bins_proba').size()[::-1].cumsum()[::-1]"
   ]
  },
  {
   "cell_type": "code",
   "execution_count": 67,
   "metadata": {
    "collapsed": false
   },
   "outputs": [
    {
     "data": {
      "text/plain": [
       "bins_proba\n",
       "[0, 0.05)      1070807\n",
       "[0.05, 0.1)     563809\n",
       "[0.1, 0.15)     502141\n",
       "[0.15, 0.2)     459278\n",
       "[0.2, 0.25)     424071\n",
       "[0.25, 0.3)     392708\n",
       "[0.3, 0.35)     363312\n",
       "[0.35, 0.4)     335079\n",
       "[0.4, 0.45)     306468\n",
       "[0.45, 0.5)     276745\n",
       "[0.5, 0.55)     245462\n",
       "[0.55, 0.6)     210989\n",
       "[0.6, 0.65)     172851\n",
       "[0.65, 0.7)     128325\n",
       "[0.7, 0.75)      79491\n",
       "[0.75, 0.8)      28375\n",
       "[0.8, 0.85)       4676\n",
       "[0.85, 0.9)         60\n",
       "[0.9, 0.95)          8\n",
       "[0.95, 1)            1\n",
       "dtype: int64"
      ]
     },
     "execution_count": 67,
     "metadata": {},
     "output_type": "execute_result"
    }
   ],
   "source": [
    "q"
   ]
  }
 ],
 "metadata": {
  "anaconda-cloud": {},
  "kernelspec": {
   "display_name": "Python 3",
   "language": "python",
   "name": "python3"
  },
  "language_info": {
   "codemirror_mode": {
    "name": "ipython",
    "version": 3
   },
   "file_extension": ".py",
   "mimetype": "text/x-python",
   "name": "python",
   "nbconvert_exporter": "python",
   "pygments_lexer": "ipython3",
   "version": "3.5.2"
  }
 },
 "nbformat": 4,
 "nbformat_minor": 2
}
